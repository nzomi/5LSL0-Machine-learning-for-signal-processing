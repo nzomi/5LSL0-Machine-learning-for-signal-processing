{
 "cells": [
  {
   "cell_type": "code",
   "execution_count": 1,
   "metadata": {},
   "outputs": [],
   "source": [
    "import numpy as np"
   ]
  },
  {
   "cell_type": "code",
   "execution_count": 12,
   "metadata": {},
   "outputs": [
    {
     "name": "stdout",
     "output_type": "stream",
     "text": [
      "[[ 1.00000000e-01]\n",
      " [ 4.00000000e-01]\n",
      " [-1.65234042e-16]]\n"
     ]
    }
   ],
   "source": [
    "x = np.array([0,0,1,0.1,1,1,1,0.2,1,1,1,1]).reshape(4,3)\n",
    "fx = np.array([0,0.41,0.18,0.5]).reshape(4,-1)\n",
    "theta = np.linalg.solve(x.T@x,x.T@fx)\n",
    "print(theta)"
   ]
  },
  {
   "cell_type": "code",
   "execution_count": 47,
   "metadata": {},
   "outputs": [
    {
     "data": {
      "text/plain": [
       "array([[-1.65234042e-16],\n",
       "       [ 4.10000000e-01],\n",
       "       [ 1.80000000e-01],\n",
       "       [ 5.00000000e-01]])"
      ]
     },
     "execution_count": 47,
     "metadata": {},
     "output_type": "execute_result"
    }
   ],
   "source": [
    "x@theta"
   ]
  },
  {
   "cell_type": "code",
   "execution_count": 6,
   "metadata": {},
   "outputs": [
    {
     "name": "stdout",
     "output_type": "stream",
     "text": [
      "[[ 0.10107389]\n",
      " [ 0.41070998]\n",
      " [-0.05022928]]\n"
     ]
    }
   ],
   "source": [
    "x_ = np.array([0,0,1,0.1,1,1,1,0.2,1,1,1,1]).reshape(4,3)\n",
    "y = np.array([-0.0416,0.3610,0.1222,0.4733]).reshape(4,-1)\n",
    "theta_ = np.linalg.solve(x_.T@x_,x_.T@y)\n",
    "print(theta_)"
   ]
  },
  {
   "cell_type": "code",
   "execution_count": 8,
   "metadata": {},
   "outputs": [
    {
     "data": {
      "text/plain": [
       "0.00010517536226440846"
      ]
     },
     "execution_count": 8,
     "metadata": {},
     "output_type": "execute_result"
    }
   ],
   "source": [
    "from sklearn.metrics import mean_squared_error\n",
    "mean_squared_error(y,x_@theta_)"
   ]
  },
  {
   "cell_type": "code",
   "execution_count": 11,
   "metadata": {},
   "outputs": [
    {
     "data": {
      "text/plain": [
       "array([[1],\n",
       "       [1],\n",
       "       [2]])"
      ]
     },
     "execution_count": 11,
     "metadata": {},
     "output_type": "execute_result"
    }
   ],
   "source": [
    "xx = np.array([0,0,1,0,1,1,1,0,1,1,1,1]).reshape(4,3)\n",
    "yx = np.array([0,1,1,0]).reshape(4,1)\n",
    "#thetax = np.linalg.solve(xx.T@xx,xx.T@yx)\n",
    "#print(thetax)\n",
    "xx.T@yx"
   ]
  },
  {
   "cell_type": "code",
   "execution_count": 54,
   "metadata": {},
   "outputs": [
    {
     "name": "stdout",
     "output_type": "stream",
     "text": [
      "[[ 0  1  1  2]\n",
      " [-1  0  0  1]]\n"
     ]
    }
   ],
   "source": [
    "a = np.array([1,1,1,1]).reshape(2,2)\n",
    "b = np.array([0,0,1,1,0,1,0,1]).reshape(2,4)\n",
    "e = np.array([0,-1]).reshape(2,1)\n",
    "h = a@b+e\n",
    "print(h)"
   ]
  },
  {
   "cell_type": "code",
   "execution_count": 67,
   "metadata": {},
   "outputs": [
    {
     "data": {
      "text/plain": [
       "<matplotlib.legend.Legend at 0x1b7b65f76d0>"
      ]
     },
     "execution_count": 67,
     "metadata": {},
     "output_type": "execute_result"
    },
    {
     "data": {
      "image/png": "[encoded data removed]",
      "text/plain": [
       "<Figure size 432x288 with 1 Axes>"
      ]
     },
     "metadata": {
      "needs_background": "light"
     },
     "output_type": "display_data"
    }
   ],
   "source": [
    "from matplotlib import pyplot as plt\n",
    "h1 = np.linspace(-1,4,100)\n",
    "h2 = h1/2-0.25\n",
    "plt.plot(h1,h2,'--',label = '$f(h) = 0.5$')\n",
    "plt.plot(0,0,'o',color='r')\n",
    "plt.plot(1,0,'x',color='orange')\n",
    "plt.plot(2,1,'o',color='r')\n",
    "plt.axvline(0,color = 'gray',linewidth = 0.5)\n",
    "plt.axhline(0,color = 'gray',linewidth = 0.5)\n",
    "plt.xlim([-0.3,4.25])\n",
    "plt.ylim([-0.3,2])\n",
    "plt.xlabel('$h_1$')\n",
    "plt.ylabel('$h_2$')\n",
    "plt.legend()"
   ]
  },
  {
   "cell_type": "code",
   "execution_count": 65,
   "metadata": {},
   "outputs": [
    {
     "data": {
      "text/plain": [
       "<matplotlib.legend.Legend at 0x1b7b814c820>"
      ]
     },
     "execution_count": 65,
     "metadata": {},
     "output_type": "execute_result"
    },
    {
     "data": {
      "image/png": "[encoded data removed]",
      "text/plain": [
       "<Figure size 432x288 with 1 Axes>"
      ]
     },
     "metadata": {
      "needs_background": "light"
     },
     "output_type": "display_data"
    }
   ],
   "source": [
    "x1 = np.linspace(-1,2,100)\n",
    "x21 = 1.5 - x1\n",
    "x22 = 0.5 - x1\n",
    "plt.plot(x1,x21,'--',color = 'orange',label = '$x_1$ = 1.5 - $x_2$')\n",
    "plt.plot(x1,x22,'--',color = 'royalblue',label = '$x_1$ = 0.5 - $x_2$')\n",
    "plt.plot(0,0,'o',color='r')\n",
    "plt.plot(1,0,'x',color='orange')\n",
    "plt.plot(0,1,'x',color='orange')\n",
    "plt.plot(1,1,'o',color='r')\n",
    "plt.axvline(0,color = 'gray',linewidth = 0.5)\n",
    "plt.axhline(0,color = 'gray',linewidth = 0.5)\n",
    "plt.xlim([-0.3,2])\n",
    "plt.ylim([-0.3,2])\n",
    "plt.xlabel('$x_1$')\n",
    "plt.ylabel('$x_2$')\n",
    "plt.legend()"
   ]
  }
 ],
 "metadata": {
  "interpreter": {
   "hash": "821845d3834fd5332c320919ab286e4642b397f1105ee93cf4a156d13c80ccb0"
  },
  "kernelspec": {
   "display_name": "Python 3.9.12 ('base')",
   "language": "python",
   "name": "python3"
  },
  "language_info": {
   "codemirror_mode": {
    "name": "ipython",
    "version": 3
   },
   "file_extension": ".py",
   "mimetype": "text/x-python",
   "name": "python",
   "nbconvert_exporter": "python",
   "pygments_lexer": "ipython3",
   "version": "3.9.12"
  },
  "orig_nbformat": 4
 },
 "nbformat": 4,
 "nbformat_minor": 2
}
