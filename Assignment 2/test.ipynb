{
 "cells": [
  {
   "cell_type": "code",
   "execution_count": 1,
   "metadata": {},
   "outputs": [],
   "source": [
    "import numpy as np"
   ]
  },
  {
   "cell_type": "code",
   "execution_count": 43,
   "metadata": {},
   "outputs": [
    {
     "name": "stdout",
     "output_type": "stream",
     "text": [
      "[[ 1.00000000e-01]\n",
      " [ 4.00000000e-01]\n",
      " [-1.65234042e-16]]\n"
     ]
    }
   ],
   "source": [
    "x = np.array([0,0,1,0.1,1,1,1,0.2,1,1,1,1]).reshape(4,3)\n",
    "fx = np.array([0,0.41,0.18,0.5]).reshape(4,-1)\n",
    "theta = np.linalg.solve(x.T@x,x.T@fx)\n",
    "print(theta)"
   ]
  },
  {
   "cell_type": "code",
   "execution_count": 47,
   "metadata": {},
   "outputs": [
    {
     "data": {
      "text/plain": [
       "array([[-1.65234042e-16],\n",
       "       [ 4.10000000e-01],\n",
       "       [ 1.80000000e-01],\n",
       "       [ 5.00000000e-01]])"
      ]
     },
     "execution_count": 47,
     "metadata": {},
     "output_type": "execute_result"
    }
   ],
   "source": [
    "x@theta"
   ]
  },
  {
   "cell_type": "code",
   "execution_count": 33,
   "metadata": {},
   "outputs": [
    {
     "name": "stdout",
     "output_type": "stream",
     "text": [
      "[[ 0.10107389]\n",
      " [ 0.41070998]\n",
      " [-0.05022928]]\n"
     ]
    }
   ],
   "source": [
    "x_ = np.array([0,0,1,0.1,1,1,1,0.2,1,1,1,1]).reshape(4,3)\n",
    "y = np.array([-0.0416,0.3610,0.1222,0.4733]).reshape(4,-1)\n",
    "theta_ = np.linalg.solve(x_.T@x_,x_.T@y)\n",
    "print(theta_)"
   ]
  },
  {
   "cell_type": "code",
   "execution_count": 45,
   "metadata": {},
   "outputs": [
    {
     "name": "stdout",
     "output_type": "stream",
     "text": [
      "1.3758919939609661e-32\n"
     ]
    },
    {
     "data": {
      "text/plain": [
       "0.0020463224999999964"
      ]
     },
     "execution_count": 45,
     "metadata": {},
     "output_type": "execute_result"
    }
   ],
   "source": [
    "from sklearn.metrics import mean_squared_error\n",
    "print(mean_squared_error(fx,x@theta))\n",
    "mean_squared_error(y,x_@theta)"
   ]
  },
  {
   "cell_type": "code",
   "execution_count": 51,
   "metadata": {},
   "outputs": [
    {
     "name": "stdout",
     "output_type": "stream",
     "text": [
      "[[0.66666667]\n",
      " [0.66666667]]\n"
     ]
    }
   ],
   "source": [
    "xx = np.array([0,0,0,1,1,0,1,1]).reshape(4,2)\n",
    "yx = np.array([0,1,1,1]).reshape(4,1)\n",
    "thetax = np.linalg.solve(xx.T@xx,xx.T@yx)\n",
    "print(thetax)"
   ]
  },
  {
   "cell_type": "code",
   "execution_count": 54,
   "metadata": {},
   "outputs": [
    {
     "name": "stdout",
     "output_type": "stream",
     "text": [
      "[[ 0  1  1  2]\n",
      " [-1  0  0  1]]\n"
     ]
    }
   ],
   "source": [
    "a = np.array([1,1,1,1]).reshape(2,2)\n",
    "b = np.array([0,0,1,1,0,1,0,1]).reshape(2,4)\n",
    "e = np.array([0,-1]).reshape(2,1)\n",
    "h = a@b+e\n",
    "print(h)"
   ]
  },
  {
   "cell_type": "code",
   "execution_count": null,
   "metadata": {},
   "outputs": [],
   "source": []
  }
 ],
 "metadata": {
  "interpreter": {
   "hash": "821845d3834fd5332c320919ab286e4642b397f1105ee93cf4a156d13c80ccb0"
  },
  "kernelspec": {
   "display_name": "Python 3.9.12 ('base')",
   "language": "python",
   "name": "python3"
  },
  "language_info": {
   "codemirror_mode": {
    "name": "ipython",
    "version": 3
   },
   "file_extension": ".py",
   "mimetype": "text/x-python",
   "name": "python",
   "nbconvert_exporter": "python",
   "pygments_lexer": "ipython3",
   "version": "3.9.12"
  },
  "orig_nbformat": 4
 },
 "nbformat": 4,
 "nbformat_minor": 2
}
